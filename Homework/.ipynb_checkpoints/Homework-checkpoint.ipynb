{
 "cells": [
  {
   "cell_type": "markdown",
   "metadata": {},
   "source": [
    "# Homework CAPITA SELECTA PU Learning"
   ]
  },
  {
   "cell_type": "code",
   "execution_count": 1,
   "metadata": {},
   "outputs": [],
   "source": [
    "%reload_ext autoreload\n",
    "%autoreload 2\n",
    "\n",
    "import numpy as np\n",
    "import pandas as pd\n",
    "import matplotlib.pyplot as plt\n",
    "from collections import Counter\n",
    "from sklearn.metrics import f1_score, mean_squared_error as mse\n",
    "from sklearn import svm\n",
    "from sklearn.linear_model import LogisticRegression\n",
    "\n",
    "def ignore_warnings():\n",
    "    import warnings\n",
    "    warnings.simplefilter(action='ignore', category=FutureWarning)\n",
    "    warnings.simplefilter(action='ignore', category=Warning)\n",
    "\n",
    "ignore_warnings()\n",
    "\n",
    "#from PU_Learning import *\n",
    "from PU_Learning import *\n"
   ]
  },
  {
   "cell_type": "code",
   "execution_count": null,
   "metadata": {},
   "outputs": [],
   "source": []
  },
  {
   "cell_type": "markdown",
   "metadata": {},
   "source": [
    "## First Dataset"
   ]
  },
  {
   "cell_type": "markdown",
   "metadata": {},
   "source": [
    "#### https://archive.ics.uci.edu/ml/datasets/banknote+authentication"
   ]
  },
  {
   "cell_type": "code",
   "execution_count": 2,
   "metadata": {},
   "outputs": [],
   "source": [
    "data = pd.read_csv('Dataset1_train.csv')\n",
    "X1_train= data.iloc[:, :-2].values\n",
    "y1_train = data.iloc[:, -1].values\n",
    "s1 = data.iloc[:, -2].values\n",
    "c1 = Counter(s1)[1]/Counter(y1_train)[1]\n",
    "\n",
    "data = pd.read_csv('Dataset1_test.csv')\n",
    "X1_test= data.iloc[:, :-1].values\n",
    "y1_test = data.iloc[:, -1].values"
   ]
  },
  {
   "cell_type": "code",
   "execution_count": 3,
   "metadata": {},
   "outputs": [
    {
     "data": {
      "text/plain": [
       "Counter({1: 180, 0: 232})"
      ]
     },
     "execution_count": 3,
     "metadata": {},
     "output_type": "execute_result"
    }
   ],
   "source": [
    "Counter(y1_test)"
   ]
  },
  {
   "cell_type": "markdown",
   "metadata": {},
   "source": [
    "### Golden Standard Classifier (first dataset)"
   ]
  },
  {
   "cell_type": "code",
   "execution_count": 4,
   "metadata": {},
   "outputs": [
    {
     "name": "stdout",
     "output_type": "stream",
     "text": [
      "Golden Standard Classifier: F1 score: 0.9917355371900827\n"
     ]
    }
   ],
   "source": [
    "# Consider the dataset as fully labeled. Use this as the best case in the comparison.\n",
    "\n",
    "golden_clf = svm.SVC(kernel='rbf',probability=True,random_state = 331).fit(np.copy(X1_train),np.copy(y1_train))\n",
    "name = \"Golden Standard Classifier:\"\n",
    "\n",
    "y_best_pred = golden_clf.predict(np.copy(X1_test))\n",
    "y_best_prob = golden_clf.predict_proba(np.copy(X1_test))[:,1]\n",
    "\n",
    "print(name,\"F1 score:\", f1_score(y1_test, y_best_pred))"
   ]
  },
  {
   "cell_type": "markdown",
   "metadata": {},
   "source": [
    "### Non-Traditional Classifier (first dataset)"
   ]
  },
  {
   "cell_type": "code",
   "execution_count": 5,
   "metadata": {},
   "outputs": [
    {
     "name": "stdout",
     "output_type": "stream",
     "text": [
      "Non-Traditional Classifier F1 score: 0.0\n",
      "Non-Traditional Classifier MSE score: 0.35758938350199343\n"
     ]
    }
   ],
   "source": [
    "#fit a model on (X, s1) and see the performance. Compare it with the two methods.\n",
    "non_trad_clf = svm.SVC(kernel='rbf', probability=True, random_state = 331).fit(np.copy(X1_train),np.copy(s1))\n",
    "name = \"Non-Traditional Classifier\"\n",
    "\n",
    "y_pred = non_trad_clf.predict(np.copy(X1_test))\n",
    "y_pred_prob = non_trad_clf.predict_proba(np.copy(X1_test))[:,1]\n",
    "print(name,\"F1 score:\", f1_score(y1_test, y_pred))\n",
    "print(name,\"MSE score:\", mse(y_best_prob, y_pred_prob))"
   ]
  },
  {
   "cell_type": "markdown",
   "metadata": {},
   "source": [
    "### Spy Expectation Maximization S-EM (first dataset)"
   ]
  },
  {
   "cell_type": "code",
   "execution_count": null,
   "metadata": {},
   "outputs": [],
   "source": [
    "pu_classifier = SEM(tol = 1.0e-10, max_iter = 100, spy_prop = 0.1, l = 0.15,\n",
    "                    classifier = LogisticRegression(), seed=331)\n",
    "name = \"SEM\"\n",
    "\n",
    "pu_classifier.fit(np.copy(X1_train), np.copy(s1))\n",
    "\n",
    "y_pred = pu_classifier.predict(np.copy(X1_test))\n",
    "\n",
    "y_pred_prob = pu_classifier.predict_proba(np.copy(X1_test))[:,1]\n",
    "\n",
    "print(name,\"F1 score:\", f1_score(y1_test, y_pred))\n",
    "print(name,\"MSE score:\", mse(y_best_prob, y_pred_prob))"
   ]
  },
  {
   "cell_type": "markdown",
   "metadata": {},
   "source": [
    "### Modified Logistic Regression MLR (first dataset)"
   ]
  },
  {
   "cell_type": "code",
   "execution_count": null,
   "metadata": {},
   "outputs": [],
   "source": [
    "pu_classifier = ModifiedLogisticRegression(max_iter = 100, l_rate = 0.001, seed = 331)\n",
    "name = \"MLR\"\n",
    "\n",
    "pu_classifier.fit(np.copy(X1_train), np.copy(s1))\n",
    "\n",
    "pu_classifier.estimate_c()\n",
    "\n",
    "y_pred = pu_classifier.predict(np.copy(X1_test))\n",
    "\n",
    "y_pred_prob = pu_classifier.predict_proba(np.copy(X1_test))\n",
    "\n",
    "print(name,\"F1 score:\", f1_score(y1_test, y_pred))\n",
    "print(name,\"MSE score:\", mse(y_best_prob, y_pred_prob))"
   ]
  },
  {
   "cell_type": "code",
   "execution_count": null,
   "metadata": {},
   "outputs": [],
   "source": []
  },
  {
   "cell_type": "markdown",
   "metadata": {},
   "source": [
    "# Second dataset"
   ]
  },
  {
   "cell_type": "markdown",
   "metadata": {},
   "source": [
    "### https://archive.ics.uci.edu/ml/datasets/Diabetic+Retinopathy+Debrecen+Data+Set"
   ]
  },
  {
   "cell_type": "code",
   "execution_count": null,
   "metadata": {},
   "outputs": [],
   "source": [
    "data = pd.read_csv('Dataset2_train.csv')\n",
    "X2_train= data.iloc[:, :-2].values\n",
    "y2_train = data.iloc[:, -1].values\n",
    "s2 = data.iloc[:, -2].values\n",
    "c2 = Counter(s2)[1]/Counter(y2_train)[1]\n",
    "\n",
    "data = pd.read_csv('Dataset2_test.csv')\n",
    "X2_test= data.iloc[:, :-1].values\n",
    "y2_test = data.iloc[:, -1].values"
   ]
  },
  {
   "cell_type": "markdown",
   "metadata": {},
   "source": [
    "### Golden Standard Classifier (second dataset)"
   ]
  },
  {
   "cell_type": "code",
   "execution_count": null,
   "metadata": {},
   "outputs": [],
   "source": [
    "# Consider the dataset as fully labeled. Use this as the best case in the comparison.\n",
    "\n",
    "golden_clf = svm.SVC(kernel='rbf',probability=True,random_state = 331).fit(np.copy(X2_train),np.copy(y2_train))\n",
    "name = \"Golden Standard Classifier:\"\n",
    "\n",
    "y_best_pred = golden_clf.predict(np.copy(X2_test))\n",
    "y_best_prob = golden_clf.predict_proba(np.copy(X2_test))[:,1]\n",
    "\n",
    "print(name,\"F1 score:\", f1_score(y2_test, y_best_pred))"
   ]
  },
  {
   "cell_type": "markdown",
   "metadata": {},
   "source": [
    "### Non-Traditional Classifier (second dataset)"
   ]
  },
  {
   "cell_type": "code",
   "execution_count": null,
   "metadata": {},
   "outputs": [],
   "source": [
    "#fit a model on (X, s1) and see the performance. Compare it with the two methods.\n",
    "non_trad_clf = svm.SVC(kernel='rbf', probability=True, random_state = 331).fit(np.copy(X2_train),np.copy(s2))\n",
    "name = \"Non-Traditional Classifier\"\n",
    "\n",
    "y_pred = non_trad_clf.predict(np.copy(X2_test))\n",
    "y_pred_prob = non_trad_clf.predict_proba(np.copy(X2_test))[:,1]\n",
    "print(name,\"F1 score:\", f1_score(y2_test, y_pred))\n",
    "print(name,\"MSE score:\", mse(y_best_prob, y_pred_prob))"
   ]
  },
  {
   "cell_type": "markdown",
   "metadata": {},
   "source": [
    "### Spy Expectation Maximization S-EM (second dataset)"
   ]
  },
  {
   "cell_type": "code",
   "execution_count": null,
   "metadata": {
    "scrolled": true
   },
   "outputs": [],
   "source": [
    "pu_classifier = SEM(tol = 1.0e-10, max_iter = 100, spy_prop = 0.1, l = 0.15, \n",
    "                    classifier = LogisticRegression(), seed=331)\n",
    "name = \"SEM\"\n",
    "\n",
    "pu_classifier.fit(np.copy(X2_train), np.copy(s2))\n",
    "\n",
    "y_pred = pu_classifier.predict(np.copy(X2_test))\n",
    "\n",
    "y_pred_prob = pu_classifier.predict_proba(np.copy(X2_test))[:,1]\n",
    "\n",
    "print(name,\"F1 score:\", f1_score(y2_test, y_pred))\n",
    "print(name,\"MSE score:\", mse(y_best_prob, y_pred_prob))\n"
   ]
  },
  {
   "cell_type": "markdown",
   "metadata": {},
   "source": [
    "### Modified Logistic Regression MLR (second dataset)"
   ]
  },
  {
   "cell_type": "code",
   "execution_count": null,
   "metadata": {
    "scrolled": true
   },
   "outputs": [],
   "source": [
    "pu_classifier = ModifiedLogisticRegression(max_iter = 100, l_rate = 0.001, seed = 331)\n",
    "name = \"MLR\"\n",
    "\n",
    "pu_classifier.fit(np.copy(X2_train), np.copy(s2))\n",
    "\n",
    "pu_classifier.estimate_c()\n",
    "\n",
    "y_pred = pu_classifier.predict(np.copy(X2_test))\n",
    "\n",
    "y_pred_prob = pu_classifier.predict_proba(np.copy(X2_test))\n",
    "\n",
    "print(name,\"F1 score:\", f1_score(y2_test, y_pred))\n",
    "print(name,\"MSE score:\", mse(y_best_prob, y_pred_prob))"
   ]
  },
  {
   "cell_type": "code",
   "execution_count": null,
   "metadata": {},
   "outputs": [],
   "source": []
  },
  {
   "cell_type": "code",
   "execution_count": null,
   "metadata": {},
   "outputs": [],
   "source": []
  },
  {
   "cell_type": "code",
   "execution_count": null,
   "metadata": {},
   "outputs": [],
   "source": []
  },
  {
   "cell_type": "code",
   "execution_count": null,
   "metadata": {},
   "outputs": [],
   "source": []
  },
  {
   "cell_type": "code",
   "execution_count": null,
   "metadata": {},
   "outputs": [],
   "source": []
  },
  {
   "cell_type": "code",
   "execution_count": null,
   "metadata": {},
   "outputs": [],
   "source": []
  }
 ],
 "metadata": {
  "kernelspec": {
   "display_name": "Python 3",
   "language": "python",
   "name": "python3"
  },
  "language_info": {
   "codemirror_mode": {
    "name": "ipython",
    "version": 3
   },
   "file_extension": ".py",
   "mimetype": "text/x-python",
   "name": "python",
   "nbconvert_exporter": "python",
   "pygments_lexer": "ipython3",
   "version": "3.8.5"
  }
 },
 "nbformat": 4,
 "nbformat_minor": 4
}
